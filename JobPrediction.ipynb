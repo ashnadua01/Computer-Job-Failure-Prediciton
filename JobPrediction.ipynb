{
  "nbformat": 4,
  "nbformat_minor": 0,
  "metadata": {
    "colab": {
      "provenance": [],
      "toc_visible": true
    },
    "kernelspec": {
      "name": "python3",
      "display_name": "Python 3"
    },
    "language_info": {
      "name": "python"
    },
    "accelerator": "GPU"
  },
  "cells": [
    {
      "cell_type": "markdown",
      "metadata": {
        "id": "SZAk94jUtjbl"
      },
      "source": [
        "# Libraries Used"
      ]
    },
    {
      "cell_type": "code",
      "metadata": {
        "id": "-aIWAH3kGEaX"
      },
      "source": [
        "import os\n",
        "import pickle\n",
        "import numpy as np\n",
        "import pandas as pd\n",
        "import matplotlib.pyplot as plt\n",
        "import seaborn as sns\n",
        "import argparse\n",
        "\n",
        "from sklearn.preprocessing import MinMaxScaler,StandardScaler\n",
        "from sklearn.ensemble import RandomForestClassifier\n",
        "from sklearn.tree import DecisionTreeClassifier\n",
        "from sklearn.model_selection import train_test_split,GridSearchCV\n",
        "from sklearn.naive_bayes import GaussianNB\n",
        "from sklearn.linear_model import LogisticRegression\n",
        "from sklearn.metrics import accuracy_score\n",
        "from sklearn.svm import SVC"
      ],
      "execution_count": null,
      "outputs": []
    },
    {
      "cell_type": "markdown",
      "metadata": {
        "id": "wT1TG5Jgtg9R"
      },
      "source": [
        "# Data Preprocessing"
      ]
    },
    {
      "cell_type": "code",
      "metadata": {
        "id": "VlNN7uJZl4oi"
      },
      "source": [
        "data = pd.read_csv('/content/train_data.csv')"
      ],
      "execution_count": null,
      "outputs": []
    },
    {
      "cell_type": "code",
      "metadata": {
        "colab": {
          "base_uri": "https://localhost:8080/"
        },
        "id": "p6emKhg7mNES",
        "outputId": "067638b8-bb5e-4031-e860-1b270d3a1b76"
      },
      "source": [
        "data.shape"
      ],
      "execution_count": null,
      "outputs": [
        {
          "output_type": "execute_result",
          "data": {
            "text/plain": [
              "(20000, 6)"
            ]
          },
          "metadata": {
            "tags": []
          },
          "execution_count": 3
        }
      ]
    },
    {
      "cell_type": "code",
      "metadata": {
        "colab": {
          "base_uri": "https://localhost:8080/",
          "height": 203
        },
        "id": "_LyiAMkGmP6M",
        "outputId": "3dfd2aa9-daba-4dd8-84be-f41f63bf20a8"
      },
      "source": [
        "data.head()"
      ],
      "execution_count": null,
      "outputs": [
        {
          "output_type": "execute_result",
          "data": {
            "text/html": [
              "<div>\n",
              "<style scoped>\n",
              "    .dataframe tbody tr th:only-of-type {\n",
              "        vertical-align: middle;\n",
              "    }\n",
              "\n",
              "    .dataframe tbody tr th {\n",
              "        vertical-align: top;\n",
              "    }\n",
              "\n",
              "    .dataframe thead th {\n",
              "        text-align: right;\n",
              "    }\n",
              "</style>\n",
              "<table border=\"1\" class=\"dataframe\">\n",
              "  <thead>\n",
              "    <tr style=\"text-align: right;\">\n",
              "      <th></th>\n",
              "      <th>job_id</th>\n",
              "      <th>memory_GB</th>\n",
              "      <th>network_log10_MBps</th>\n",
              "      <th>local_IO_log10_MBps</th>\n",
              "      <th>NFS_IO_log10_MBps</th>\n",
              "      <th>failed</th>\n",
              "    </tr>\n",
              "  </thead>\n",
              "  <tbody>\n",
              "    <tr>\n",
              "      <th>0</th>\n",
              "      <td>jobID1634295</td>\n",
              "      <td>44.3904</td>\n",
              "      <td>-1.0262</td>\n",
              "      <td>0.8033</td>\n",
              "      <td>-3.0000</td>\n",
              "      <td>0</td>\n",
              "    </tr>\n",
              "    <tr>\n",
              "      <th>1</th>\n",
              "      <td>jobID2033452</td>\n",
              "      <td>31.5839</td>\n",
              "      <td>-1.4608</td>\n",
              "      <td>-0.6080</td>\n",
              "      <td>-2.9967</td>\n",
              "      <td>0</td>\n",
              "    </tr>\n",
              "    <tr>\n",
              "      <th>2</th>\n",
              "      <td>jobID2068800</td>\n",
              "      <td>154.4610</td>\n",
              "      <td>-0.5508</td>\n",
              "      <td>-0.3637</td>\n",
              "      <td>-3.0000</td>\n",
              "      <td>0</td>\n",
              "    </tr>\n",
              "    <tr>\n",
              "      <th>3</th>\n",
              "      <td>jobID78826</td>\n",
              "      <td>71.8570</td>\n",
              "      <td>3.5701</td>\n",
              "      <td>-0.1281</td>\n",
              "      <td>2.3040</td>\n",
              "      <td>0</td>\n",
              "    </tr>\n",
              "    <tr>\n",
              "      <th>4</th>\n",
              "      <td>jobID2935014</td>\n",
              "      <td>30.0370</td>\n",
              "      <td>3.3094</td>\n",
              "      <td>-0.9463</td>\n",
              "      <td>-3.0000</td>\n",
              "      <td>0</td>\n",
              "    </tr>\n",
              "  </tbody>\n",
              "</table>\n",
              "</div>"
            ],
            "text/plain": [
              "         job_id  memory_GB  ...  NFS_IO_log10_MBps  failed\n",
              "0  jobID1634295    44.3904  ...            -3.0000       0\n",
              "1  jobID2033452    31.5839  ...            -2.9967       0\n",
              "2  jobID2068800   154.4610  ...            -3.0000       0\n",
              "3    jobID78826    71.8570  ...             2.3040       0\n",
              "4  jobID2935014    30.0370  ...            -3.0000       0\n",
              "\n",
              "[5 rows x 6 columns]"
            ]
          },
          "metadata": {
            "tags": []
          },
          "execution_count": 4
        }
      ]
    },
    {
      "cell_type": "code",
      "metadata": {
        "colab": {
          "base_uri": "https://localhost:8080/"
        },
        "id": "3HeEbZDzmVh2",
        "outputId": "61f1bf7c-2c27-4ac6-9499-f89033782680"
      },
      "source": [
        "data.isnull().sum()"
      ],
      "execution_count": null,
      "outputs": [
        {
          "output_type": "execute_result",
          "data": {
            "text/plain": [
              "job_id                 0\n",
              "memory_GB              0\n",
              "network_log10_MBps     0\n",
              "local_IO_log10_MBps    0\n",
              "NFS_IO_log10_MBps      0\n",
              "failed                 0\n",
              "dtype: int64"
            ]
          },
          "metadata": {
            "tags": []
          },
          "execution_count": 5
        }
      ]
    },
    {
      "cell_type": "code",
      "metadata": {
        "id": "rZIe4qiimbSM"
      },
      "source": [
        "y = data['failed']"
      ],
      "execution_count": null,
      "outputs": []
    },
    {
      "cell_type": "code",
      "metadata": {
        "id": "TexuKF6yQV3b"
      },
      "source": [
        "network = [10**i for i in data['network_log10_MBps']]\n",
        "local_IO = [10**i for i in data['local_IO_log10_MBps']]\n",
        "NFS_IO = [10**i for i in data['NFS_IO_log10_MBps']]"
      ],
      "execution_count": null,
      "outputs": []
    },
    {
      "cell_type": "code",
      "metadata": {
        "id": "cSBPlKGxQ6l2"
      },
      "source": [
        "data.drop(['network_log10_MBps','local_IO_log10_MBps','NFS_IO_log10_MBps'],axis=1,inplace=True)"
      ],
      "execution_count": null,
      "outputs": []
    },
    {
      "cell_type": "code",
      "metadata": {
        "id": "i1MNl7qERTaq"
      },
      "source": [
        "data['network'] = network\n",
        "data['local_IO'] = local_IO\n",
        "data['NFS_IO'] = NFS_IO"
      ],
      "execution_count": null,
      "outputs": []
    },
    {
      "cell_type": "code",
      "metadata": {
        "colab": {
          "base_uri": "https://localhost:8080/",
          "height": 203
        },
        "id": "Nd6IOwk2RgAN",
        "outputId": "d87c6cbb-0488-4011-965e-96c7ec724296"
      },
      "source": [
        "data.head()"
      ],
      "execution_count": null,
      "outputs": [
        {
          "output_type": "execute_result",
          "data": {
            "text/html": [
              "<div>\n",
              "<style scoped>\n",
              "    .dataframe tbody tr th:only-of-type {\n",
              "        vertical-align: middle;\n",
              "    }\n",
              "\n",
              "    .dataframe tbody tr th {\n",
              "        vertical-align: top;\n",
              "    }\n",
              "\n",
              "    .dataframe thead th {\n",
              "        text-align: right;\n",
              "    }\n",
              "</style>\n",
              "<table border=\"1\" class=\"dataframe\">\n",
              "  <thead>\n",
              "    <tr style=\"text-align: right;\">\n",
              "      <th></th>\n",
              "      <th>job_id</th>\n",
              "      <th>memory_GB</th>\n",
              "      <th>failed</th>\n",
              "      <th>network</th>\n",
              "      <th>local_IO</th>\n",
              "      <th>NFS_IO</th>\n",
              "    </tr>\n",
              "  </thead>\n",
              "  <tbody>\n",
              "    <tr>\n",
              "      <th>0</th>\n",
              "      <td>jobID1634295</td>\n",
              "      <td>44.3904</td>\n",
              "      <td>0</td>\n",
              "      <td>0.094146</td>\n",
              "      <td>6.357700</td>\n",
              "      <td>0.001000</td>\n",
              "    </tr>\n",
              "    <tr>\n",
              "      <th>1</th>\n",
              "      <td>jobID2033452</td>\n",
              "      <td>31.5839</td>\n",
              "      <td>0</td>\n",
              "      <td>0.034610</td>\n",
              "      <td>0.246604</td>\n",
              "      <td>0.001008</td>\n",
              "    </tr>\n",
              "    <tr>\n",
              "      <th>2</th>\n",
              "      <td>jobID2068800</td>\n",
              "      <td>154.4610</td>\n",
              "      <td>0</td>\n",
              "      <td>0.281320</td>\n",
              "      <td>0.432813</td>\n",
              "      <td>0.001000</td>\n",
              "    </tr>\n",
              "    <tr>\n",
              "      <th>3</th>\n",
              "      <td>jobID78826</td>\n",
              "      <td>71.8570</td>\n",
              "      <td>0</td>\n",
              "      <td>3716.207881</td>\n",
              "      <td>0.744561</td>\n",
              "      <td>201.372425</td>\n",
              "    </tr>\n",
              "    <tr>\n",
              "      <th>4</th>\n",
              "      <td>jobID2935014</td>\n",
              "      <td>30.0370</td>\n",
              "      <td>0</td>\n",
              "      <td>2038.919127</td>\n",
              "      <td>0.113162</td>\n",
              "      <td>0.001000</td>\n",
              "    </tr>\n",
              "  </tbody>\n",
              "</table>\n",
              "</div>"
            ],
            "text/plain": [
              "         job_id  memory_GB  failed      network  local_IO      NFS_IO\n",
              "0  jobID1634295    44.3904       0     0.094146  6.357700    0.001000\n",
              "1  jobID2033452    31.5839       0     0.034610  0.246604    0.001008\n",
              "2  jobID2068800   154.4610       0     0.281320  0.432813    0.001000\n",
              "3    jobID78826    71.8570       0  3716.207881  0.744561  201.372425\n",
              "4  jobID2935014    30.0370       0  2038.919127  0.113162    0.001000"
            ]
          },
          "metadata": {
            "tags": []
          },
          "execution_count": 10
        }
      ]
    },
    {
      "cell_type": "code",
      "metadata": {
        "id": "X5gOhMXGQ6hC"
      },
      "source": [
        "data.drop(['job_id','failed'],axis=1,inplace=True)"
      ],
      "execution_count": null,
      "outputs": []
    },
    {
      "cell_type": "code",
      "metadata": {
        "colab": {
          "base_uri": "https://localhost:8080/",
          "height": 203
        },
        "id": "8nvfPGR7QVzd",
        "outputId": "ce841651-1a1c-4c09-8973-15c1a426d617"
      },
      "source": [
        "data.head()"
      ],
      "execution_count": null,
      "outputs": [
        {
          "output_type": "execute_result",
          "data": {
            "text/html": [
              "<div>\n",
              "<style scoped>\n",
              "    .dataframe tbody tr th:only-of-type {\n",
              "        vertical-align: middle;\n",
              "    }\n",
              "\n",
              "    .dataframe tbody tr th {\n",
              "        vertical-align: top;\n",
              "    }\n",
              "\n",
              "    .dataframe thead th {\n",
              "        text-align: right;\n",
              "    }\n",
              "</style>\n",
              "<table border=\"1\" class=\"dataframe\">\n",
              "  <thead>\n",
              "    <tr style=\"text-align: right;\">\n",
              "      <th></th>\n",
              "      <th>memory_GB</th>\n",
              "      <th>network</th>\n",
              "      <th>local_IO</th>\n",
              "      <th>NFS_IO</th>\n",
              "    </tr>\n",
              "  </thead>\n",
              "  <tbody>\n",
              "    <tr>\n",
              "      <th>0</th>\n",
              "      <td>44.3904</td>\n",
              "      <td>0.094146</td>\n",
              "      <td>6.357700</td>\n",
              "      <td>0.001000</td>\n",
              "    </tr>\n",
              "    <tr>\n",
              "      <th>1</th>\n",
              "      <td>31.5839</td>\n",
              "      <td>0.034610</td>\n",
              "      <td>0.246604</td>\n",
              "      <td>0.001008</td>\n",
              "    </tr>\n",
              "    <tr>\n",
              "      <th>2</th>\n",
              "      <td>154.4610</td>\n",
              "      <td>0.281320</td>\n",
              "      <td>0.432813</td>\n",
              "      <td>0.001000</td>\n",
              "    </tr>\n",
              "    <tr>\n",
              "      <th>3</th>\n",
              "      <td>71.8570</td>\n",
              "      <td>3716.207881</td>\n",
              "      <td>0.744561</td>\n",
              "      <td>201.372425</td>\n",
              "    </tr>\n",
              "    <tr>\n",
              "      <th>4</th>\n",
              "      <td>30.0370</td>\n",
              "      <td>2038.919127</td>\n",
              "      <td>0.113162</td>\n",
              "      <td>0.001000</td>\n",
              "    </tr>\n",
              "  </tbody>\n",
              "</table>\n",
              "</div>"
            ],
            "text/plain": [
              "   memory_GB      network  local_IO      NFS_IO\n",
              "0    44.3904     0.094146  6.357700    0.001000\n",
              "1    31.5839     0.034610  0.246604    0.001008\n",
              "2   154.4610     0.281320  0.432813    0.001000\n",
              "3    71.8570  3716.207881  0.744561  201.372425\n",
              "4    30.0370  2038.919127  0.113162    0.001000"
            ]
          },
          "metadata": {
            "tags": []
          },
          "execution_count": 12
        }
      ]
    },
    {
      "cell_type": "code",
      "metadata": {
        "id": "DhjOKjr1kKXM"
      },
      "source": [
        "scaler = StandardScaler()"
      ],
      "execution_count": null,
      "outputs": []
    },
    {
      "cell_type": "code",
      "metadata": {
        "id": "N3C561W9-71p"
      },
      "source": [
        "X_train,X_test,y_train,y_test = train_test_split(data,y)"
      ],
      "execution_count": null,
      "outputs": []
    },
    {
      "cell_type": "code",
      "metadata": {
        "id": "SpwEa5e__EuS"
      },
      "source": [
        "scaled_train = scaler.fit_transform(X_train)"
      ],
      "execution_count": null,
      "outputs": []
    },
    {
      "cell_type": "code",
      "metadata": {
        "id": "9FajkUdG_KQV"
      },
      "source": [
        "scaled_test = scaler.transform(X_test)"
      ],
      "execution_count": null,
      "outputs": []
    },
    {
      "cell_type": "code",
      "metadata": {
        "id": "BW5ipXrT_Npe"
      },
      "source": [
        "unlabeled_data = pd.read_csv('/content/test_data_unlabeled.csv')"
      ],
      "execution_count": null,
      "outputs": []
    },
    {
      "cell_type": "code",
      "metadata": {
        "id": "up0DouqNpewY"
      },
      "source": [
        "unlabeled_job_id = u['job_id']"
      ],
      "execution_count": null,
      "outputs": []
    },
    {
      "cell_type": "code",
      "metadata": {
        "colab": {
          "base_uri": "https://localhost:8080/",
          "height": 203
        },
        "id": "DIKtcFdV_hdn",
        "outputId": "fb24b665-16e1-4588-96c8-ab414312ac9a"
      },
      "source": [
        "unlabeled_data.head()"
      ],
      "execution_count": null,
      "outputs": [
        {
          "output_type": "execute_result",
          "data": {
            "text/html": [
              "<div>\n",
              "<style scoped>\n",
              "    .dataframe tbody tr th:only-of-type {\n",
              "        vertical-align: middle;\n",
              "    }\n",
              "\n",
              "    .dataframe tbody tr th {\n",
              "        vertical-align: top;\n",
              "    }\n",
              "\n",
              "    .dataframe thead th {\n",
              "        text-align: right;\n",
              "    }\n",
              "</style>\n",
              "<table border=\"1\" class=\"dataframe\">\n",
              "  <thead>\n",
              "    <tr style=\"text-align: right;\">\n",
              "      <th></th>\n",
              "      <th>job_id</th>\n",
              "      <th>memory_GB</th>\n",
              "      <th>network_log10_MBps</th>\n",
              "      <th>local_IO_log10_MBps</th>\n",
              "      <th>NFS_IO_log10_MBps</th>\n",
              "    </tr>\n",
              "  </thead>\n",
              "  <tbody>\n",
              "    <tr>\n",
              "      <th>0</th>\n",
              "      <td>jobID845653</td>\n",
              "      <td>11.6819</td>\n",
              "      <td>1.9141</td>\n",
              "      <td>-0.5344</td>\n",
              "      <td>0.3944</td>\n",
              "    </tr>\n",
              "    <tr>\n",
              "      <th>1</th>\n",
              "      <td>jobID1649941</td>\n",
              "      <td>20.7483</td>\n",
              "      <td>-0.8377</td>\n",
              "      <td>0.3129</td>\n",
              "      <td>0.8652</td>\n",
              "    </tr>\n",
              "    <tr>\n",
              "      <th>2</th>\n",
              "      <td>jobID1228730</td>\n",
              "      <td>55.1166</td>\n",
              "      <td>-0.1672</td>\n",
              "      <td>-0.6554</td>\n",
              "      <td>-0.2249</td>\n",
              "    </tr>\n",
              "    <tr>\n",
              "      <th>3</th>\n",
              "      <td>jobID2366721</td>\n",
              "      <td>68.2202</td>\n",
              "      <td>-0.8236</td>\n",
              "      <td>1.2425</td>\n",
              "      <td>-3.0000</td>\n",
              "    </tr>\n",
              "    <tr>\n",
              "      <th>4</th>\n",
              "      <td>jobID1208568</td>\n",
              "      <td>20.7190</td>\n",
              "      <td>-2.0983</td>\n",
              "      <td>-0.6392</td>\n",
              "      <td>-3.0000</td>\n",
              "    </tr>\n",
              "  </tbody>\n",
              "</table>\n",
              "</div>"
            ],
            "text/plain": [
              "         job_id  memory_GB  ...  local_IO_log10_MBps  NFS_IO_log10_MBps\n",
              "0   jobID845653    11.6819  ...              -0.5344             0.3944\n",
              "1  jobID1649941    20.7483  ...               0.3129             0.8652\n",
              "2  jobID1228730    55.1166  ...              -0.6554            -0.2249\n",
              "3  jobID2366721    68.2202  ...               1.2425            -3.0000\n",
              "4  jobID1208568    20.7190  ...              -0.6392            -3.0000\n",
              "\n",
              "[5 rows x 5 columns]"
            ]
          },
          "metadata": {
            "tags": []
          },
          "execution_count": 18
        }
      ]
    },
    {
      "cell_type": "code",
      "metadata": {
        "id": "SO18S7EQ_kYH"
      },
      "source": [
        "network_unlabeled = [10**i for i in unlabeled_data['network_log10_MBps']]\n",
        "local_IO_unlabeled = [10**i for i in unlabeled_data['local_IO_log10_MBps']]\n",
        "NFS_IO_unlabeled = [10**i for i in unlabeled_data['NFS_IO_log10_MBps']]"
      ],
      "execution_count": null,
      "outputs": []
    },
    {
      "cell_type": "code",
      "metadata": {
        "id": "mswbSzAO_6L7"
      },
      "source": [
        "unlabeled_data.drop(['network_log10_MBps','local_IO_log10_MBps','NFS_IO_log10_MBps','job_id'],axis=1,inplace=True)"
      ],
      "execution_count": null,
      "outputs": []
    },
    {
      "cell_type": "code",
      "metadata": {
        "id": "cGQ3AomJAHdF"
      },
      "source": [
        "unlabeled_data['network_unlabeled'] = network_unlabeled\n",
        "unlabeled_data['local_IO_unlabeled'] = local_IO_unlabeled\n",
        "unlabeled_data['NFS_IO_unlabeled'] = NFS_IO_unlabeled"
      ],
      "execution_count": null,
      "outputs": []
    },
    {
      "cell_type": "code",
      "metadata": {
        "colab": {
          "base_uri": "https://localhost:8080/",
          "height": 203
        },
        "id": "4YgQJLtSAJof",
        "outputId": "1aebef88-d660-40a9-fa87-6882775589a4"
      },
      "source": [
        "unlabeled_data.head()"
      ],
      "execution_count": null,
      "outputs": [
        {
          "output_type": "execute_result",
          "data": {
            "text/html": [
              "<div>\n",
              "<style scoped>\n",
              "    .dataframe tbody tr th:only-of-type {\n",
              "        vertical-align: middle;\n",
              "    }\n",
              "\n",
              "    .dataframe tbody tr th {\n",
              "        vertical-align: top;\n",
              "    }\n",
              "\n",
              "    .dataframe thead th {\n",
              "        text-align: right;\n",
              "    }\n",
              "</style>\n",
              "<table border=\"1\" class=\"dataframe\">\n",
              "  <thead>\n",
              "    <tr style=\"text-align: right;\">\n",
              "      <th></th>\n",
              "      <th>memory_GB</th>\n",
              "      <th>network_unlabeled</th>\n",
              "      <th>local_IO_unlabeled</th>\n",
              "      <th>NFS_IO_unlabeled</th>\n",
              "    </tr>\n",
              "  </thead>\n",
              "  <tbody>\n",
              "    <tr>\n",
              "      <th>0</th>\n",
              "      <td>11.6819</td>\n",
              "      <td>82.054046</td>\n",
              "      <td>0.292146</td>\n",
              "      <td>2.479705</td>\n",
              "    </tr>\n",
              "    <tr>\n",
              "      <th>1</th>\n",
              "      <td>20.7483</td>\n",
              "      <td>0.145312</td>\n",
              "      <td>2.055417</td>\n",
              "      <td>7.331621</td>\n",
              "    </tr>\n",
              "    <tr>\n",
              "      <th>2</th>\n",
              "      <td>55.1166</td>\n",
              "      <td>0.680456</td>\n",
              "      <td>0.221106</td>\n",
              "      <td>0.595799</td>\n",
              "    </tr>\n",
              "    <tr>\n",
              "      <th>3</th>\n",
              "      <td>68.2202</td>\n",
              "      <td>0.150107</td>\n",
              "      <td>17.478333</td>\n",
              "      <td>0.001000</td>\n",
              "    </tr>\n",
              "    <tr>\n",
              "      <th>4</th>\n",
              "      <td>20.7190</td>\n",
              "      <td>0.007974</td>\n",
              "      <td>0.229509</td>\n",
              "      <td>0.001000</td>\n",
              "    </tr>\n",
              "  </tbody>\n",
              "</table>\n",
              "</div>"
            ],
            "text/plain": [
              "   memory_GB  network_unlabeled  local_IO_unlabeled  NFS_IO_unlabeled\n",
              "0    11.6819          82.054046            0.292146          2.479705\n",
              "1    20.7483           0.145312            2.055417          7.331621\n",
              "2    55.1166           0.680456            0.221106          0.595799\n",
              "3    68.2202           0.150107           17.478333          0.001000\n",
              "4    20.7190           0.007974            0.229509          0.001000"
            ]
          },
          "metadata": {
            "tags": []
          },
          "execution_count": 22
        }
      ]
    },
    {
      "cell_type": "code",
      "metadata": {
        "id": "VjkEO5XhAXly"
      },
      "source": [
        "scaled_unlabeled = scaler.transform(unlabeled_data)"
      ],
      "execution_count": null,
      "outputs": []
    },
    {
      "cell_type": "markdown",
      "metadata": {
        "id": "dffXhCJ0tbwy"
      },
      "source": [
        "# Task 1"
      ]
    },
    {
      "cell_type": "code",
      "metadata": {
        "id": "d88sBeg-F7Hx"
      },
      "source": [
        "model = DecisionTreeClassifier()"
      ],
      "execution_count": null,
      "outputs": []
    },
    {
      "cell_type": "code",
      "metadata": {
        "id": "feec9iQEhTDb"
      },
      "source": [
        "path = model.cost_complexity_pruning_path(scaled_train,y_train)"
      ],
      "execution_count": null,
      "outputs": []
    },
    {
      "cell_type": "code",
      "metadata": {
        "colab": {
          "base_uri": "https://localhost:8080/"
        },
        "id": "8MncMnqUhTBL",
        "outputId": "85f18b06-39dd-42f0-a83a-8a1b2510633f"
      },
      "source": [
        "path"
      ],
      "execution_count": null,
      "outputs": [
        {
          "output_type": "execute_result",
          "data": {
            "text/plain": [
              "{'ccp_alphas': array([0.00000000e+00, 4.35729847e-05, 4.39335888e-05, 4.40000000e-05,\n",
              "        4.44444444e-05, 4.44444444e-05, 5.00000000e-05, 5.00000000e-05,\n",
              "        5.25996646e-05, 5.26789366e-05, 5.33333333e-05, 5.33333333e-05,\n",
              "        5.33333333e-05, 5.33333333e-05, 5.55555556e-05, 5.55555556e-05,\n",
              "        5.55555556e-05, 5.56900726e-05, 5.58635394e-05, 5.71428571e-05,\n",
              "        5.71428571e-05, 5.71428571e-05, 5.71428571e-05, 5.71428571e-05,\n",
              "        5.71428571e-05, 5.77777778e-05, 5.83333333e-05, 5.83333333e-05,\n",
              "        5.92592593e-05, 5.92592593e-05, 5.92592593e-05, 5.92592593e-05,\n",
              "        6.00000000e-05, 6.00000000e-05, 6.00000000e-05, 6.00000000e-05,\n",
              "        6.00000000e-05, 6.00000000e-05, 6.03174603e-05, 6.06060606e-05,\n",
              "        6.06060606e-05, 6.06060606e-05, 6.06060606e-05, 6.08695652e-05,\n",
              "        6.11111111e-05, 6.11111111e-05, 6.11111111e-05, 6.11111111e-05,\n",
              "        6.11111111e-05, 6.11330698e-05, 6.13675214e-05, 6.15384615e-05,\n",
              "        6.15384615e-05, 6.15384615e-05, 6.15384615e-05, 6.15384615e-05,\n",
              "        6.15384615e-05, 6.15384615e-05, 6.19047619e-05, 6.19047619e-05,\n",
              "        6.22222222e-05, 6.22222222e-05, 6.22222222e-05, 6.22222222e-05,\n",
              "        6.22222222e-05, 6.22222222e-05, 6.22222222e-05, 6.25000000e-05,\n",
              "        6.25000000e-05, 6.25000000e-05, 6.26262626e-05, 6.27202255e-05,\n",
              "        6.27450980e-05, 6.29629630e-05, 6.30303030e-05, 6.30630631e-05,\n",
              "        6.31578947e-05, 6.33333333e-05, 6.33333333e-05, 6.33333333e-05,\n",
              "        6.34920635e-05, 6.34920635e-05, 6.36363636e-05, 6.37681159e-05,\n",
              "        6.39873916e-05, 6.40522876e-05, 6.41975309e-05, 6.41975309e-05,\n",
              "        6.46464646e-05, 6.47523626e-05, 6.48684649e-05, 6.49572650e-05,\n",
              "        6.49572650e-05, 6.50000000e-05, 6.50000000e-05, 6.50005409e-05,\n",
              "        6.51162791e-05, 6.51515152e-05, 6.51515152e-05, 6.51587302e-05,\n",
              "        6.52173913e-05, 6.53061224e-05, 6.53323619e-05, 6.53594771e-05,\n",
              "        6.53792135e-05, 6.53846154e-05, 6.54088050e-05, 6.55555556e-05,\n",
              "        6.55737705e-05, 6.55798103e-05, 6.56084656e-05, 6.56887755e-05,\n",
              "        6.57142857e-05, 6.57534247e-05, 6.58008658e-05, 6.58064025e-05,\n",
              "        6.58286990e-05, 6.58653846e-05, 6.58944659e-05, 6.59409218e-05,\n",
              "        6.59863946e-05, 6.59934352e-05, 6.60377358e-05, 6.60550459e-05,\n",
              "        6.61461075e-05, 6.61616162e-05, 6.61654135e-05, 6.61968271e-05,\n",
              "        6.62393162e-05, 6.63035889e-05, 6.63304060e-05, 6.63742690e-05,\n",
              "        6.64141414e-05, 6.64211537e-05, 6.64391354e-05, 6.64502165e-05,\n",
              "        6.64634146e-05, 6.64879357e-05, 6.65064103e-05, 6.66019671e-05,\n",
              "        6.66098677e-05, 6.66666667e-05, 6.66666667e-05, 6.66666667e-05,\n",
              "        6.66666667e-05, 6.66666667e-05, 6.66666667e-05, 6.66666667e-05,\n",
              "        6.67145876e-05, 6.68713883e-05, 6.68728987e-05, 6.72499946e-05,\n",
              "        6.74897119e-05, 6.76190476e-05, 6.77591036e-05, 6.82205514e-05,\n",
              "        6.83316683e-05, 7.01675136e-05, 7.08730159e-05, 7.17113665e-05,\n",
              "        7.17481558e-05, 7.30015083e-05, 7.40740741e-05, 7.44898868e-05,\n",
              "        7.47826087e-05, 7.55532769e-05, 7.60942761e-05, 7.61904762e-05,\n",
              "        7.64364023e-05, 7.83225806e-05, 7.87878788e-05, 7.92562970e-05,\n",
              "        7.93005687e-05, 7.95321637e-05, 7.97598546e-05, 7.97720798e-05,\n",
              "        8.00000000e-05, 8.00000000e-05, 8.00000000e-05, 8.00000000e-05,\n",
              "        8.00000000e-05, 8.06693229e-05, 8.10009268e-05, 8.12526813e-05,\n",
              "        8.14814815e-05, 8.15954416e-05, 8.21800612e-05, 8.28571429e-05,\n",
              "        8.29629630e-05, 8.29629630e-05, 8.33333333e-05, 8.33333333e-05,\n",
              "        8.33448833e-05, 8.47390808e-05, 8.48484848e-05, 8.49946339e-05,\n",
              "        8.51432664e-05, 8.67744936e-05, 8.68074958e-05, 8.71212121e-05,\n",
              "        8.71212121e-05, 8.72727273e-05, 8.73785728e-05, 8.78431373e-05,\n",
              "        8.84379167e-05, 8.88888889e-05, 8.88888889e-05, 8.88888889e-05,\n",
              "        8.88888889e-05, 8.88888889e-05, 8.88888889e-05, 8.88888889e-05,\n",
              "        8.88888889e-05, 8.88888889e-05, 8.88888889e-05, 8.88888889e-05,\n",
              "        8.88888889e-05, 9.00000000e-05, 9.00000000e-05, 9.03403403e-05,\n",
              "        9.12280702e-05, 9.14285714e-05, 9.29292929e-05, 9.39867981e-05,\n",
              "        9.41176471e-05, 9.46969697e-05, 9.48148148e-05, 9.52380952e-05,\n",
              "        9.52380952e-05, 9.57717335e-05, 9.69696970e-05, 9.70085470e-05,\n",
              "        9.88071188e-05, 9.89431371e-05, 1.00000000e-04, 1.00000000e-04,\n",
              "        1.00000000e-04, 1.00000000e-04, 1.00000000e-04, 1.00000000e-04,\n",
              "        1.00000000e-04, 1.00000000e-04, 1.00000000e-04, 1.00000000e-04,\n",
              "        1.00683761e-04, 1.00764177e-04, 1.01010101e-04, 1.01010101e-04,\n",
              "        1.01010101e-04, 1.01010101e-04, 1.01587302e-04, 1.01587302e-04,\n",
              "        1.01587302e-04, 1.03703704e-04, 1.05494505e-04, 1.05820106e-04,\n",
              "        1.06666667e-04, 1.06666667e-04, 1.06666667e-04, 1.07663128e-04,\n",
              "        1.07936508e-04, 1.08888889e-04, 1.09090909e-04, 1.10000000e-04,\n",
              "        1.11111111e-04, 1.11111111e-04, 1.11111111e-04, 1.11111111e-04,\n",
              "        1.12401434e-04, 1.12775529e-04, 1.12820513e-04, 1.13131313e-04,\n",
              "        1.13360324e-04, 1.14285714e-04, 1.16363636e-04, 1.17366255e-04,\n",
              "        1.17647059e-04, 1.17681011e-04, 1.17948718e-04, 1.18518519e-04,\n",
              "        1.18518519e-04, 1.19347319e-04, 1.20000000e-04, 1.20000000e-04,\n",
              "        1.20189261e-04, 1.20673334e-04, 1.20713927e-04, 1.21666667e-04,\n",
              "        1.21904762e-04, 1.22556371e-04, 1.23034177e-04, 1.23076923e-04,\n",
              "        1.23418803e-04, 1.23913043e-04, 1.24275362e-04, 1.24564931e-04,\n",
              "        1.24584251e-04, 1.24884366e-04, 1.26246478e-04, 1.26315789e-04,\n",
              "        1.26365376e-04, 1.27777778e-04, 1.28356306e-04, 1.30130883e-04,\n",
              "        1.30370370e-04, 1.32035276e-04, 1.32040236e-04, 1.35190724e-04,\n",
              "        1.37073086e-04, 1.37301587e-04, 1.38888889e-04, 1.39539088e-04,\n",
              "        1.46598693e-04, 1.47272727e-04, 1.48186275e-04, 1.48745520e-04,\n",
              "        1.51515152e-04, 1.52239804e-04, 1.52380952e-04, 1.52612634e-04,\n",
              "        1.53957788e-04, 1.55455109e-04, 1.58674948e-04, 1.58730159e-04,\n",
              "        1.58730159e-04, 1.60000000e-04, 1.60185185e-04, 1.64983165e-04,\n",
              "        1.65384615e-04, 1.65977011e-04, 1.66406926e-04, 1.66666667e-04,\n",
              "        1.71228070e-04, 1.71428571e-04, 1.73306007e-04, 1.73904458e-04,\n",
              "        1.74635003e-04, 1.79738562e-04, 1.80297769e-04, 1.80984711e-04,\n",
              "        1.81849343e-04, 1.82087542e-04, 1.82202112e-04, 1.84313725e-04,\n",
              "        1.84377104e-04, 1.85537229e-04, 1.86410675e-04, 1.89705459e-04,\n",
              "        1.90476190e-04, 1.95581395e-04, 2.00000000e-04, 2.05485759e-04,\n",
              "        2.08513840e-04, 2.09698798e-04, 2.12764469e-04, 2.13333333e-04,\n",
              "        2.15126050e-04, 2.24355355e-04, 2.24407370e-04, 2.26432749e-04,\n",
              "        2.29090909e-04, 2.29239766e-04, 2.29978144e-04, 2.35864198e-04,\n",
              "        2.44648318e-04, 2.48592187e-04, 2.51759293e-04, 2.60460515e-04,\n",
              "        2.65746492e-04, 2.68831169e-04, 2.73885679e-04, 2.91076371e-04,\n",
              "        3.08100904e-04, 3.22080714e-04, 3.26584720e-04, 3.28012003e-04,\n",
              "        3.37692308e-04, 3.57828758e-04, 3.61901346e-04, 3.83274426e-04,\n",
              "        3.83382164e-04, 3.92982189e-04, 4.87334887e-04, 4.88098059e-04,\n",
              "        5.56034557e-04, 7.30994152e-04, 7.84823547e-04, 1.04890599e-03,\n",
              "        1.05844025e-03, 1.61453443e-03, 2.52716101e-03, 8.32870646e-03,\n",
              "        1.22420778e-02]),\n",
              " 'impurities': array([0.00000000e+00, 1.30718954e-04, 2.62519721e-04, 3.94519721e-04,\n",
              "        4.83408609e-04, 5.27853054e-04, 6.27853054e-04, 7.27853054e-04,\n",
              "        9.90851377e-04, 1.25424606e-03, 1.36091273e-03, 1.46757939e-03,\n",
              "        1.57424606e-03, 1.68091273e-03, 1.79202384e-03, 1.90313495e-03,\n",
              "        2.01424606e-03, 2.40407657e-03, 2.79512134e-03, 2.90940706e-03,\n",
              "        3.02369277e-03, 3.13797849e-03, 3.36654992e-03, 3.48083563e-03,\n",
              "        3.59512134e-03, 3.82623246e-03, 3.94289912e-03, 4.05956579e-03,\n",
              "        4.17808431e-03, 4.29660283e-03, 4.41512134e-03, 4.53363986e-03,\n",
              "        4.59363986e-03, 4.71363986e-03, 4.83363986e-03, 4.95363986e-03,\n",
              "        5.07363986e-03, 5.19363986e-03, 5.43490970e-03, 5.55612183e-03,\n",
              "        5.67733395e-03, 5.79854607e-03, 5.91975819e-03, 6.16323645e-03,\n",
              "        6.28545867e-03, 6.40768089e-03, 6.52990312e-03, 6.65212534e-03,\n",
              "        6.77434756e-03, 6.89661370e-03, 7.01934874e-03, 7.14242567e-03,\n",
              "        7.26550259e-03, 7.38857951e-03, 7.51165644e-03, 7.75781028e-03,\n",
              "        7.88088721e-03, 8.00396413e-03, 8.12777365e-03, 8.25158318e-03,\n",
              "        8.37602762e-03, 8.50047206e-03, 8.62491651e-03, 8.74936095e-03,\n",
              "        8.99824984e-03, 9.12269429e-03, 9.24713873e-03, 9.37213873e-03,\n",
              "        9.49713873e-03, 9.74713873e-03, 1.02481488e-02, 1.04990297e-02,\n",
              "        1.07500101e-02, 1.08759361e-02, 1.12541179e-02, 1.15063701e-02,\n",
              "        1.16326859e-02, 1.17593526e-02, 1.18860192e-02, 1.20126859e-02,\n",
              "        1.21396700e-02, 1.22666542e-02, 1.23939269e-02, 1.25214631e-02,\n",
              "        1.27774127e-02, 1.30336218e-02, 1.32904120e-02, 1.34188070e-02,\n",
              "        1.36773929e-02, 1.38068976e-02, 1.40663715e-02, 1.41962860e-02,\n",
              "        1.43262005e-02, 1.44562005e-02, 1.45862005e-02, 1.47162016e-02,\n",
              "        1.48464342e-02, 1.49767372e-02, 1.51070402e-02, 1.53676752e-02,\n",
              "        1.54981099e-02, 1.56287222e-02, 1.58900516e-02, 1.60207706e-02,\n",
              "        1.62822874e-02, 1.64130567e-02, 1.65438743e-02, 1.66749854e-02,\n",
              "        1.68061329e-02, 1.69372925e-02, 1.70685095e-02, 1.73312646e-02,\n",
              "        1.78569789e-02, 1.81199926e-02, 1.82515943e-02, 1.83832071e-02,\n",
              "        1.86465219e-02, 1.87782527e-02, 1.91736195e-02, 1.93055013e-02,\n",
              "        1.94374741e-02, 1.97014478e-02, 2.02297497e-02, 2.03618598e-02,\n",
              "        2.04941520e-02, 2.06264753e-02, 2.07588061e-02, 2.08911997e-02,\n",
              "        2.10236784e-02, 2.11562856e-02, 2.14216072e-02, 2.15543557e-02,\n",
              "        2.16871840e-02, 2.19528686e-02, 2.20857469e-02, 2.22186473e-02,\n",
              "        2.24845010e-02, 2.26174768e-02, 2.28835025e-02, 2.31499104e-02,\n",
              "        2.32831301e-02, 2.33497968e-02, 2.34164634e-02, 2.34831301e-02,\n",
              "        2.35497968e-02, 2.38164634e-02, 2.38831301e-02, 2.39497968e-02,\n",
              "        2.40832259e-02, 2.42169687e-02, 2.47519519e-02, 2.49537019e-02,\n",
              "        2.50886813e-02, 2.52239194e-02, 2.53594376e-02, 2.54958787e-02,\n",
              "        2.56325421e-02, 2.57728771e-02, 2.60563691e-02, 2.61997919e-02,\n",
              "        2.74195105e-02, 2.74925120e-02, 2.77147343e-02, 2.78637140e-02,\n",
              "        2.82376271e-02, 2.92953729e-02, 2.95236558e-02, 2.97522272e-02,\n",
              "        3.01344092e-02, 3.09176350e-02, 3.13115744e-02, 3.15493433e-02,\n",
              "        3.17872450e-02, 3.20258415e-02, 3.26639203e-02, 3.31425528e-02,\n",
              "        3.34625528e-02, 3.37825528e-02, 3.39425528e-02, 3.41025528e-02,\n",
              "        3.42625528e-02, 3.46658994e-02, 3.53139068e-02, 3.55576649e-02,\n",
              "        3.59650723e-02, 3.62098586e-02, 3.64563988e-02, 3.66221131e-02,\n",
              "        3.68710020e-02, 3.71198909e-02, 3.74532242e-02, 3.79532242e-02,\n",
              "        3.82032589e-02, 3.84574761e-02, 3.87968700e-02, 3.90518539e-02,\n",
              "        3.93072837e-02, 3.95676072e-02, 4.14773721e-02, 4.16516146e-02,\n",
              "        4.18258570e-02, 4.19131297e-02, 4.21752654e-02, 4.22631086e-02,\n",
              "        4.25284223e-02, 4.26173112e-02, 4.27950890e-02, 4.28839779e-02,\n",
              "        4.29728668e-02, 4.30617556e-02, 4.31506445e-02, 4.33284223e-02,\n",
              "        4.34173112e-02, 4.35062001e-02, 4.35950890e-02, 4.36839779e-02,\n",
              "        4.37728668e-02, 4.39528668e-02, 4.40428668e-02, 4.41332071e-02,\n",
              "        4.44981194e-02, 4.45895479e-02, 4.47754065e-02, 4.51513537e-02,\n",
              "        4.56219420e-02, 4.57166389e-02, 4.58114537e-02, 4.60019299e-02,\n",
              "        4.62876442e-02, 4.69580464e-02, 4.72489554e-02, 4.76369896e-02,\n",
              "        4.79334110e-02, 4.86260129e-02, 4.87260129e-02, 4.89260129e-02,\n",
              "        4.90260129e-02, 4.91260129e-02, 4.92260129e-02, 4.93260129e-02,\n",
              "        4.94260129e-02, 4.95260129e-02, 4.96260129e-02, 4.97260129e-02,\n",
              "        5.00280642e-02, 5.05318851e-02, 5.06328952e-02, 5.08349154e-02,\n",
              "        5.09359255e-02, 5.15419861e-02, 5.16435734e-02, 5.17451607e-02,\n",
              "        5.18467480e-02, 5.20541554e-02, 5.21596499e-02, 5.22654700e-02,\n",
              "        5.23721367e-02, 5.24788034e-02, 5.25854700e-02, 5.31237857e-02,\n",
              "        5.35555317e-02, 5.36644206e-02, 5.38826024e-02, 5.41026024e-02,\n",
              "        5.42137135e-02, 5.43248246e-02, 5.44359358e-02, 5.45470469e-02,\n",
              "        5.46594483e-02, 5.49977749e-02, 5.52234159e-02, 5.53365472e-02,\n",
              "        5.55632679e-02, 5.56775536e-02, 5.59102809e-02, 5.62623796e-02,\n",
              "        5.64976737e-02, 5.81452079e-02, 5.84990541e-02, 5.86175726e-02,\n",
              "        5.87360911e-02, 5.88554384e-02, 5.90954384e-02, 5.92154384e-02,\n",
              "        5.98163847e-02, 6.00577314e-02, 6.01784453e-02, 6.05434453e-02,\n",
              "        6.09091596e-02, 6.10317160e-02, 6.11547501e-02, 6.12778271e-02,\n",
              "        6.14012459e-02, 6.16490720e-02, 6.17733473e-02, 6.18979122e-02,\n",
              "        6.25208335e-02, 6.26457179e-02, 6.30244573e-02, 6.31507731e-02,\n",
              "        6.35298692e-02, 6.36576470e-02, 6.37860033e-02, 6.40462651e-02,\n",
              "        6.44373762e-02, 6.61538348e-02, 6.62858750e-02, 6.70970194e-02,\n",
              "        6.75082386e-02, 6.77828418e-02, 6.79217307e-02, 6.82008088e-02,\n",
              "        6.87872036e-02, 6.89344763e-02, 6.95272214e-02, 6.99734580e-02,\n",
              "        7.01249732e-02, 7.17996110e-02, 7.19519920e-02, 7.21046046e-02,\n",
              "        7.28743935e-02, 7.31853037e-02, 7.35026536e-02, 7.36613838e-02,\n",
              "        7.38201140e-02, 7.39801140e-02, 7.43004843e-02, 7.44654675e-02,\n",
              "        7.47962367e-02, 7.49622137e-02, 7.51286207e-02, 7.52952873e-02,\n",
              "        7.56377435e-02, 7.59806006e-02, 7.65005186e-02, 7.66744231e-02,\n",
              "        7.70236931e-02, 7.73831702e-02, 7.81043613e-02, 7.88283001e-02,\n",
              "        7.93738482e-02, 7.95559357e-02, 8.01025420e-02, 8.06554832e-02,\n",
              "        8.08398603e-02, 8.10253976e-02, 8.12118082e-02, 8.19706301e-02,\n",
              "        8.21611063e-02, 8.23566877e-02, 8.25566877e-02, 8.29676592e-02,\n",
              "        8.48442837e-02, 8.52636813e-02, 8.54764458e-02, 8.56897791e-02,\n",
              "        8.59049052e-02, 8.63536159e-02, 8.72512454e-02, 8.74776781e-02,\n",
              "        8.77067690e-02, 8.79360088e-02, 8.88559214e-02, 8.95635140e-02,\n",
              "        9.00528106e-02, 9.07985872e-02, 9.10503465e-02, 9.13108070e-02,\n",
              "        9.15765535e-02, 9.18453846e-02, 9.23931560e-02, 9.26842324e-02,\n",
              "        9.29923333e-02, 9.33144140e-02, 9.36409987e-02, 9.46250347e-02,\n",
              "        9.53004193e-02, 9.67317343e-02, 9.70936357e-02, 9.78601845e-02,\n",
              "        9.90103310e-02, 1.00582260e-01, 1.01069595e-01, 1.03021987e-01,\n",
              "        1.04134056e-01, 1.04865050e-01, 1.05649874e-01, 1.07747686e-01,\n",
              "        1.13039887e-01, 1.14654421e-01, 1.17181582e-01, 1.25510289e-01,\n",
              "        1.49994444e-01])}"
            ]
          },
          "metadata": {
            "tags": []
          },
          "execution_count": 27
        }
      ]
    },
    {
      "cell_type": "code",
      "metadata": {
        "id": "HLDgFpstGRoA"
      },
      "source": [
        "alphas, impurities = path.ccp_alphas, path.impurities"
      ],
      "execution_count": null,
      "outputs": []
    },
    {
      "cell_type": "code",
      "metadata": {
        "colab": {
          "base_uri": "https://localhost:8080/",
          "height": 350
        },
        "id": "b7ZW_xoAGRlv",
        "outputId": "92c17b84-05d3-4b55-839c-ab69de825f3d"
      },
      "source": [
        "plt.xlabel(\"effective alpha\")\n",
        "plt.ylabel(\"total impurity of leaves\")\n",
        "sns.lineplot(alphas,impurities)"
      ],
      "execution_count": null,
      "outputs": [
        {
          "output_type": "stream",
          "text": [
            "/usr/local/lib/python3.7/dist-packages/seaborn/_decorators.py:43: FutureWarning: Pass the following variables as keyword args: x, y. From version 0.12, the only valid positional argument will be `data`, and passing other arguments without an explicit keyword will result in an error or misinterpretation.\n",
            "  FutureWarning\n"
          ],
          "name": "stderr"
        },
        {
          "output_type": "execute_result",
          "data": {
            "text/plain": [
              "<matplotlib.axes._subplots.AxesSubplot at 0x7f7499fa1c90>"
            ]
          },
          "metadata": {
            "tags": []
          },
          "execution_count": 31
        },
        {
          "output_type": "display_data",
          "data": {
            "image/png": "[encoded data removed]",
            "text/plain": [
              "<Figure size 432x288 with 1 Axes>"
            ]
          },
          "metadata": {
            "tags": [],
            "needs_background": "light"
          }
        }
      ]
    },
    {
      "cell_type": "code",
      "metadata": {
        "id": "39jOVVeLGRe8"
      },
      "source": [
        "clfs = []\n",
        "\n",
        "for ccp_alpha in alphas:\n",
        "    clf = DecisionTreeClassifier(random_state=0, ccp_alpha=ccp_alpha)\n",
        "    clf.fit(X_train, y_train)\n",
        "    clfs.append(clf)"
      ],
      "execution_count": null,
      "outputs": []
    },
    {
      "cell_type": "code",
      "metadata": {
        "colab": {
          "base_uri": "https://localhost:8080/",
          "height": 405
        },
        "id": "p9WgNz0VjXqy",
        "outputId": "d2cef0fd-c223-41fe-9f5f-e72d3d9da64b"
      },
      "source": [
        "tree_depths = [clf.tree_.max_depth for clf in clfs]\n",
        "plt.figure(figsize=(10,  6))\n",
        "plt.plot(alphas[:-1], tree_depths[:-1])\n",
        "plt.xlabel(\"effective alpha\")\n",
        "plt.ylabel(\"total depth\")"
      ],
      "execution_count": null,
      "outputs": [
        {
          "output_type": "execute_result",
          "data": {
            "text/plain": [
              "Text(0, 0.5, 'total depth')"
            ]
          },
          "metadata": {
            "tags": []
          },
          "execution_count": 34
        },
        {
          "output_type": "display_data",
          "data": {
            "image/png": "[encoded data removed]",
            "text/plain": [
              "<Figure size 720x432 with 1 Axes>"
            ]
          },
          "metadata": {
            "tags": [],
            "needs_background": "light"
          }
        }
      ]
    },
    {
      "cell_type": "code",
      "metadata": {
        "colab": {
          "base_uri": "https://localhost:8080/",
          "height": 405
        },
        "id": "1y-L64c1jXoh",
        "outputId": "c5e60ced-c35f-4ff7-d9b9-0af534c67839"
      },
      "source": [
        "acc_scores = [accuracy_score(y_test, clf.predict(X_test)) for clf in clfs]\n",
        "\n",
        "tree_depths = [clf.tree_.max_depth for clf in clfs]\n",
        "plt.figure(figsize=(10,  6))\n",
        "plt.grid()\n",
        "plt.plot(alphas[:-1], acc_scores[:-1])\n",
        "plt.xlabel(\"effective alpha\")\n",
        "plt.ylabel(\"Accuracy scores\")"
      ],
      "execution_count": null,
      "outputs": [
        {
          "output_type": "execute_result",
          "data": {
            "text/plain": [
              "Text(0, 0.5, 'Accuracy scores')"
            ]
          },
          "metadata": {
            "tags": []
          },
          "execution_count": 36
        },
        {
          "output_type": "display_data",
          "data": {
            "image/png": "[encoded data removed]",
            "text/plain": [
              "<Figure size 720x432 with 1 Axes>"
            ]
          },
          "metadata": {
            "tags": [],
            "needs_background": "light"
          }
        }
      ]
    },
    {
      "cell_type": "code",
      "metadata": {
        "id": "_PAjeNNpjXlh"
      },
      "source": [
        "indices = []\n",
        "for value in acc_scores:\n",
        "    if value > 0.935:\n",
        "        indices.append(acc_scores.index(value))"
      ],
      "execution_count": null,
      "outputs": []
    },
    {
      "cell_type": "code",
      "metadata": {
        "id": "VzDhstobjXiz"
      },
      "source": [
        "moreindices = []\n",
        "for index in indices:\n",
        "    moreindices.append(alphas[index])"
      ],
      "execution_count": null,
      "outputs": []
    },
    {
      "cell_type": "code",
      "metadata": {
        "colab": {
          "base_uri": "https://localhost:8080/"
        },
        "id": "vTKAIDtjlERe",
        "outputId": "30142ef2-0943-4b09-cfd8-f9a90b21a362"
      },
      "source": [
        "len(indices), len(moreindices)"
      ],
      "execution_count": null,
      "outputs": [
        {
          "output_type": "execute_result",
          "data": {
            "text/plain": [
              "(81, 81)"
            ]
          },
          "metadata": {
            "tags": []
          },
          "execution_count": 40
        }
      ]
    },
    {
      "cell_type": "code",
      "metadata": {
        "colab": {
          "base_uri": "https://localhost:8080/",
          "height": 335
        },
        "id": "36hm0r42lEJt",
        "outputId": "239ae731-491a-4cbd-9343-3051d6bdee25"
      },
      "source": [
        "sns.lineplot(moreindices,indices)"
      ],
      "execution_count": null,
      "outputs": [
        {
          "output_type": "stream",
          "text": [
            "/usr/local/lib/python3.7/dist-packages/seaborn/_decorators.py:43: FutureWarning: Pass the following variables as keyword args: x, y. From version 0.12, the only valid positional argument will be `data`, and passing other arguments without an explicit keyword will result in an error or misinterpretation.\n",
            "  FutureWarning\n"
          ],
          "name": "stderr"
        },
        {
          "output_type": "execute_result",
          "data": {
            "text/plain": [
              "<matplotlib.axes._subplots.AxesSubplot at 0x7f74955f9e10>"
            ]
          },
          "metadata": {
            "tags": []
          },
          "execution_count": 41
        },
        {
          "output_type": "display_data",
          "data": {
            "image/png": "[encoded data removed]",
            "text/plain": [
              "<Figure size 432x288 with 1 Axes>"
            ]
          },
          "metadata": {
            "tags": [],
            "needs_background": "light"
          }
        }
      ]
    },
    {
      "cell_type": "code",
      "metadata": {
        "id": "pFiJ94qYlteQ"
      },
      "source": [
        "final_model = DecisionTreeClassifier(random_state=0,ccp_alpha=0.00030)"
      ],
      "execution_count": null,
      "outputs": []
    },
    {
      "cell_type": "code",
      "metadata": {
        "colab": {
          "base_uri": "https://localhost:8080/"
        },
        "id": "DSa-ged2ltb9",
        "outputId": "ffa3ffa5-7549-4044-8dd2-6eb767fa7cbc"
      },
      "source": [
        "final_model.fit(scaled_train,y_train)"
      ],
      "execution_count": null,
      "outputs": [
        {
          "output_type": "execute_result",
          "data": {
            "text/plain": [
              "DecisionTreeClassifier(ccp_alpha=0.0003, class_weight=None, criterion='gini',\n",
              "                       max_depth=None, max_features=None, max_leaf_nodes=None,\n",
              "                       min_impurity_decrease=0.0, min_impurity_split=None,\n",
              "                       min_samples_leaf=1, min_samples_split=2,\n",
              "                       min_weight_fraction_leaf=0.0, presort='deprecated',\n",
              "                       random_state=0, splitter='best')"
            ]
          },
          "metadata": {
            "tags": []
          },
          "execution_count": 86
        }
      ]
    },
    {
      "cell_type": "code",
      "metadata": {
        "id": "000ElOBBltZt"
      },
      "source": [
        "pred = final_model.predict(scaled_test)"
      ],
      "execution_count": null,
      "outputs": []
    },
    {
      "cell_type": "code",
      "metadata": {
        "colab": {
          "base_uri": "https://localhost:8080/"
        },
        "id": "6AuY33GpltXl",
        "outputId": "0f518577-1593-4324-e65f-609776c6fdf5"
      },
      "source": [
        "pd.Series(pred).value_counts()"
      ],
      "execution_count": null,
      "outputs": [
        {
          "output_type": "execute_result",
          "data": {
            "text/plain": [
              "0    4833\n",
              "1     167\n",
              "dtype: int64"
            ]
          },
          "metadata": {
            "tags": []
          },
          "execution_count": 88
        }
      ]
    },
    {
      "cell_type": "code",
      "metadata": {
        "id": "tMzIAl8vltUd"
      },
      "source": [
        "preds = pd.Series(final_model.predict(scaled_unlabeled), index=unlabeled_job_id)"
      ],
      "execution_count": null,
      "outputs": []
    },
    {
      "cell_type": "code",
      "metadata": {
        "colab": {
          "base_uri": "https://localhost:8080/"
        },
        "id": "YpoUkFVtqdYt",
        "outputId": "e1cb3368-0392-4bfb-b720-3a3d9671ce43"
      },
      "source": [
        "preds.value_counts()"
      ],
      "execution_count": null,
      "outputs": [
        {
          "output_type": "execute_result",
          "data": {
            "text/plain": [
              "0    9623\n",
              "1     377\n",
              "dtype: int64"
            ]
          },
          "metadata": {
            "tags": []
          },
          "execution_count": 90
        }
      ]
    },
    {
      "cell_type": "code",
      "metadata": {
        "id": "RDNa0HssltRd"
      },
      "source": [
        "preds.to_csv('model_complete_test.csv')"
      ],
      "execution_count": null,
      "outputs": []
    },
    {
      "cell_type": "code",
      "metadata": {
        "id": "Iegg0QKDGRcs"
      },
      "source": [],
      "execution_count": null,
      "outputs": []
    },
    {
      "cell_type": "markdown",
      "metadata": {
        "id": "HUCiEAJKtSUz"
      },
      "source": [
        "# Task 2"
      ]
    },
    {
      "cell_type": "code",
      "metadata": {
        "id": "QsJ3_FKyrC5f"
      },
      "source": [
        "from sklearn.decomposition import PCA"
      ],
      "execution_count": null,
      "outputs": []
    },
    {
      "cell_type": "code",
      "metadata": {
        "id": "OXdZnyUntulN"
      },
      "source": [
        "model_pca = PCA(n_components=3)"
      ],
      "execution_count": null,
      "outputs": []
    },
    {
      "cell_type": "code",
      "metadata": {
        "id": "bCESckH1t2_Y"
      },
      "source": [
        "scaled_train_pca = model_pca.fit_transform(scaled_train)"
      ],
      "execution_count": null,
      "outputs": []
    },
    {
      "cell_type": "code",
      "metadata": {
        "id": "O6KOmbbAt9xB"
      },
      "source": [
        "scaled_test_pca = model_pca.transform(scaled_test)"
      ],
      "execution_count": null,
      "outputs": []
    },
    {
      "cell_type": "code",
      "metadata": {
        "id": "-RpRkrUvuDwV"
      },
      "source": [
        "scaled_unlabeled_pca = model_pca.transform(scaled_unlabeled)"
      ],
      "execution_count": null,
      "outputs": []
    },
    {
      "cell_type": "code",
      "metadata": {
        "colab": {
          "base_uri": "https://localhost:8080/"
        },
        "id": "-YOmX_YXuIIN",
        "outputId": "73e5e699-9897-4ea3-f858-c13cb4e3aa32"
      },
      "source": [
        "scaled_train_pca.shape, scaled_test_pca.shape, scaled_unlabeled_pca.shape"
      ],
      "execution_count": null,
      "outputs": [
        {
          "output_type": "execute_result",
          "data": {
            "text/plain": [
              "((15000, 3), (5000, 3), (10000, 3))"
            ]
          },
          "metadata": {
            "tags": []
          },
          "execution_count": 49
        }
      ]
    },
    {
      "cell_type": "code",
      "metadata": {
        "id": "gXOZ6vsYuNif"
      },
      "source": [
        "model_dtree_pca = DecisionTreeClassifier()"
      ],
      "execution_count": null,
      "outputs": []
    },
    {
      "cell_type": "code",
      "metadata": {
        "colab": {
          "base_uri": "https://localhost:8080/"
        },
        "id": "UjdUur30uwo8",
        "outputId": "a30bc338-8134-4b61-b539-330d3c8a4fcd"
      },
      "source": [
        "model_dtree_pca.fit(scaled_train_pca,y_train)"
      ],
      "execution_count": null,
      "outputs": [
        {
          "output_type": "execute_result",
          "data": {
            "text/plain": [
              "DecisionTreeClassifier(ccp_alpha=0.0, class_weight=None, criterion='gini',\n",
              "                       max_depth=None, max_features=None, max_leaf_nodes=None,\n",
              "                       min_impurity_decrease=0.0, min_impurity_split=None,\n",
              "                       min_samples_leaf=1, min_samples_split=2,\n",
              "                       min_weight_fraction_leaf=0.0, presort='deprecated',\n",
              "                       random_state=None, splitter='best')"
            ]
          },
          "metadata": {
            "tags": []
          },
          "execution_count": 51
        }
      ]
    },
    {
      "cell_type": "code",
      "metadata": {
        "id": "MYVsOASIu0Ti"
      },
      "source": [
        "pred_dtree_pca = model_dtree_pca.predict(scaled_test_pca)"
      ],
      "execution_count": null,
      "outputs": []
    },
    {
      "cell_type": "code",
      "metadata": {
        "colab": {
          "base_uri": "https://localhost:8080/"
        },
        "id": "ILu_G9MZvSGx",
        "outputId": "677c2491-54e1-4521-dce1-5fc51667a92a"
      },
      "source": [
        "pd.Series(pred_dtree_pca).value_counts()"
      ],
      "execution_count": null,
      "outputs": [
        {
          "output_type": "execute_result",
          "data": {
            "text/plain": [
              "0    4567\n",
              "1     433\n",
              "dtype: int64"
            ]
          },
          "metadata": {
            "tags": []
          },
          "execution_count": 53
        }
      ]
    },
    {
      "cell_type": "code",
      "metadata": {
        "colab": {
          "base_uri": "https://localhost:8080/"
        },
        "id": "19pFMNHhvV2C",
        "outputId": "e52bef38-2c1c-4c96-f504-4f74d361deb4"
      },
      "source": [
        "433/4603"
      ],
      "execution_count": null,
      "outputs": [
        {
          "output_type": "execute_result",
          "data": {
            "text/plain": [
              "0.09406908537910058"
            ]
          },
          "metadata": {
            "tags": []
          },
          "execution_count": 54
        }
      ]
    },
    {
      "cell_type": "code",
      "metadata": {
        "id": "N-3HNFt7vYQ2"
      },
      "source": [
        "u_pred_dtree_pca = model_dtree_pca.predict(scaled_unlabeled_pca)"
      ],
      "execution_count": null,
      "outputs": []
    },
    {
      "cell_type": "code",
      "metadata": {
        "colab": {
          "base_uri": "https://localhost:8080/"
        },
        "id": "yaiUV_CQvhLx",
        "outputId": "329e24e0-dc9d-4dba-ed15-89d10e0234ba"
      },
      "source": [
        "pd.Series(u_pred_dtree_pca).value_counts()"
      ],
      "execution_count": null,
      "outputs": [
        {
          "output_type": "execute_result",
          "data": {
            "text/plain": [
              "0    9093\n",
              "1     907\n",
              "dtype: int64"
            ]
          },
          "metadata": {
            "tags": []
          },
          "execution_count": 56
        }
      ]
    },
    {
      "cell_type": "code",
      "metadata": {
        "colab": {
          "base_uri": "https://localhost:8080/"
        },
        "id": "6xxobVgGvldW",
        "outputId": "e666b9c7-ffc5-45c3-815d-99632bf9d42b"
      },
      "source": [
        "907/9173"
      ],
      "execution_count": null,
      "outputs": [
        {
          "output_type": "execute_result",
          "data": {
            "text/plain": [
              "0.09887713943093862"
            ]
          },
          "metadata": {
            "tags": []
          },
          "execution_count": 58
        }
      ]
    },
    {
      "cell_type": "code",
      "metadata": {
        "id": "IF8Xe16zZ6AT"
      },
      "source": [],
      "execution_count": null,
      "outputs": []
    }
  ]
}